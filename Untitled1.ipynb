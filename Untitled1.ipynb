{
 "cells": [
  {
   "cell_type": "code",
   "execution_count": 25,
   "id": "974b4860",
   "metadata": {},
   "outputs": [
    {
     "name": "stdout",
     "output_type": "stream",
     "text": [
      "['Write', 'a', 'program', 'that', 'reads', 'a', 'text', 'file', 'and', 'counts', 'the', 'number', 'of', 'words,', 'lines,', 'and', 'characters', 'in', 'it.']\n",
      "Total number of words =  19\n",
      "Total number of characters =  99\n"
     ]
    }
   ],
   "source": [
    "s = \"Write a program that reads a text file and counts the number of words, lines, and characters in it.\"\n",
    "word = s.split(\" \")\n",
    "print(word)\n",
    "print(\"Total number of words = \", len(word))\n",
    "print(\"Total number of characters = \", len(s))"
   ]
  },
  {
   "cell_type": "code",
   "execution_count": null,
   "id": "2682039d",
   "metadata": {},
   "outputs": [],
   "source": []
  },
  {
   "cell_type": "code",
   "execution_count": null,
   "id": "c84e01a7",
   "metadata": {},
   "outputs": [],
   "source": []
  }
 ],
 "metadata": {
  "kernelspec": {
   "display_name": "Python 3 (ipykernel)",
   "language": "python",
   "name": "python3"
  },
  "language_info": {
   "codemirror_mode": {
    "name": "ipython",
    "version": 3
   },
   "file_extension": ".py",
   "mimetype": "text/x-python",
   "name": "python",
   "nbconvert_exporter": "python",
   "pygments_lexer": "ipython3",
   "version": "3.11.5"
  }
 },
 "nbformat": 4,
 "nbformat_minor": 5
}
